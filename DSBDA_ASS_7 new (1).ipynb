{
 "cells": [
  {
   "cell_type": "markdown",
   "id": "4c14c805",
   "metadata": {},
   "source": [
    "### Part 1"
   ]
  },
  {
   "cell_type": "code",
   "execution_count": 54,
   "id": "b20bed21",
   "metadata": {},
   "outputs": [
    {
     "name": "stderr",
     "output_type": "stream",
     "text": [
      "[nltk_data] Downloading package punkt to\n",
      "[nltk_data]     C:\\Users\\coeco\\AppData\\Roaming\\nltk_data...\n",
      "[nltk_data]   Package punkt is already up-to-date!\n",
      "[nltk_data] Downloading package stopwords to\n",
      "[nltk_data]     C:\\Users\\coeco\\AppData\\Roaming\\nltk_data...\n",
      "[nltk_data]   Package stopwords is already up-to-date!\n",
      "[nltk_data] Downloading package wordnet to\n",
      "[nltk_data]     C:\\Users\\coeco\\AppData\\Roaming\\nltk_data...\n",
      "[nltk_data]   Package wordnet is already up-to-date!\n",
      "[nltk_data] Downloading package averaged_perceptron_tagger to\n",
      "[nltk_data]     C:\\Users\\coeco\\AppData\\Roaming\\nltk_data...\n",
      "[nltk_data]   Package averaged_perceptron_tagger is already up-to-\n",
      "[nltk_data]       date!\n"
     ]
    },
    {
     "data": {
      "text/plain": [
       "True"
      ]
     },
     "execution_count": 54,
     "metadata": {},
     "output_type": "execute_result"
    }
   ],
   "source": [
    "import nltk\n",
    "nltk.download('punkt')\n",
    "nltk.download('stopwords')\n",
    "nltk.download('wordnet')\n",
    "nltk.download('averaged_perceptron_tagger')"
   ]
  },
  {
   "cell_type": "code",
   "execution_count": 55,
   "id": "aca74992",
   "metadata": {},
   "outputs": [
    {
     "data": {
      "text/plain": [
       "['Tokenization is the first step in text analytics.',\n",
       " 'The process of breaking down a text paragraph into smaller chunks such as words or sentences is called Tokenization']"
      ]
     },
     "execution_count": 55,
     "metadata": {},
     "output_type": "execute_result"
    }
   ],
   "source": [
    "text =  \"Tokenization is the first step in text analytics. The process of breaking down a text paragraph into smaller chunks such as words or sentences is called Tokenization\"\n",
    "\n",
    "from nltk.tokenize import sent_tokenize\n",
    "tokenized_text = sent_tokenize(text)\n",
    "tokenized_text"
   ]
  },
  {
   "cell_type": "code",
   "execution_count": 56,
   "id": "4b7947ec",
   "metadata": {},
   "outputs": [
    {
     "data": {
      "text/plain": [
       "['Tokenization',\n",
       " 'is',\n",
       " 'the',\n",
       " 'first',\n",
       " 'step',\n",
       " 'in',\n",
       " 'text',\n",
       " 'analytics',\n",
       " '.',\n",
       " 'The',\n",
       " 'process',\n",
       " 'of',\n",
       " 'breaking',\n",
       " 'down',\n",
       " 'a',\n",
       " 'text',\n",
       " 'paragraph',\n",
       " 'into',\n",
       " 'smaller',\n",
       " 'chunks',\n",
       " 'such',\n",
       " 'as',\n",
       " 'words',\n",
       " 'or',\n",
       " 'sentences',\n",
       " 'is',\n",
       " 'called',\n",
       " 'Tokenization']"
      ]
     },
     "execution_count": 56,
     "metadata": {},
     "output_type": "execute_result"
    }
   ],
   "source": [
    "from nltk.tokenize import word_tokenize\n",
    "tokenized_word = word_tokenize(text)\n",
    "tokenized_word"
   ]
  },
  {
   "cell_type": "code",
   "execution_count": 57,
   "id": "3406159f",
   "metadata": {},
   "outputs": [],
   "source": [
    "from nltk.corpus import stopwords\n",
    "stop_words = set(stopwords.words(\"english\"))"
   ]
  },
  {
   "cell_type": "code",
   "execution_count": 58,
   "id": "8ee444bc",
   "metadata": {},
   "outputs": [
    {
     "data": {
      "text/plain": [
       "{'a',\n",
       " 'about',\n",
       " 'above',\n",
       " 'after',\n",
       " 'again',\n",
       " 'against',\n",
       " 'ain',\n",
       " 'all',\n",
       " 'am',\n",
       " 'an',\n",
       " 'and',\n",
       " 'any',\n",
       " 'are',\n",
       " 'aren',\n",
       " \"aren't\",\n",
       " 'as',\n",
       " 'at',\n",
       " 'be',\n",
       " 'because',\n",
       " 'been',\n",
       " 'before',\n",
       " 'being',\n",
       " 'below',\n",
       " 'between',\n",
       " 'both',\n",
       " 'but',\n",
       " 'by',\n",
       " 'can',\n",
       " 'couldn',\n",
       " \"couldn't\",\n",
       " 'd',\n",
       " 'did',\n",
       " 'didn',\n",
       " \"didn't\",\n",
       " 'do',\n",
       " 'does',\n",
       " 'doesn',\n",
       " \"doesn't\",\n",
       " 'doing',\n",
       " 'don',\n",
       " \"don't\",\n",
       " 'down',\n",
       " 'during',\n",
       " 'each',\n",
       " 'few',\n",
       " 'for',\n",
       " 'from',\n",
       " 'further',\n",
       " 'had',\n",
       " 'hadn',\n",
       " \"hadn't\",\n",
       " 'has',\n",
       " 'hasn',\n",
       " \"hasn't\",\n",
       " 'have',\n",
       " 'haven',\n",
       " \"haven't\",\n",
       " 'having',\n",
       " 'he',\n",
       " 'her',\n",
       " 'here',\n",
       " 'hers',\n",
       " 'herself',\n",
       " 'him',\n",
       " 'himself',\n",
       " 'his',\n",
       " 'how',\n",
       " 'i',\n",
       " 'if',\n",
       " 'in',\n",
       " 'into',\n",
       " 'is',\n",
       " 'isn',\n",
       " \"isn't\",\n",
       " 'it',\n",
       " \"it's\",\n",
       " 'its',\n",
       " 'itself',\n",
       " 'just',\n",
       " 'll',\n",
       " 'm',\n",
       " 'ma',\n",
       " 'me',\n",
       " 'mightn',\n",
       " \"mightn't\",\n",
       " 'more',\n",
       " 'most',\n",
       " 'mustn',\n",
       " \"mustn't\",\n",
       " 'my',\n",
       " 'myself',\n",
       " 'needn',\n",
       " \"needn't\",\n",
       " 'no',\n",
       " 'nor',\n",
       " 'not',\n",
       " 'now',\n",
       " 'o',\n",
       " 'of',\n",
       " 'off',\n",
       " 'on',\n",
       " 'once',\n",
       " 'only',\n",
       " 'or',\n",
       " 'other',\n",
       " 'our',\n",
       " 'ours',\n",
       " 'ourselves',\n",
       " 'out',\n",
       " 'over',\n",
       " 'own',\n",
       " 're',\n",
       " 's',\n",
       " 'same',\n",
       " 'shan',\n",
       " \"shan't\",\n",
       " 'she',\n",
       " \"she's\",\n",
       " 'should',\n",
       " \"should've\",\n",
       " 'shouldn',\n",
       " \"shouldn't\",\n",
       " 'so',\n",
       " 'some',\n",
       " 'such',\n",
       " 't',\n",
       " 'than',\n",
       " 'that',\n",
       " \"that'll\",\n",
       " 'the',\n",
       " 'their',\n",
       " 'theirs',\n",
       " 'them',\n",
       " 'themselves',\n",
       " 'then',\n",
       " 'there',\n",
       " 'these',\n",
       " 'they',\n",
       " 'this',\n",
       " 'those',\n",
       " 'through',\n",
       " 'to',\n",
       " 'too',\n",
       " 'under',\n",
       " 'until',\n",
       " 'up',\n",
       " 've',\n",
       " 'very',\n",
       " 'was',\n",
       " 'wasn',\n",
       " \"wasn't\",\n",
       " 'we',\n",
       " 'were',\n",
       " 'weren',\n",
       " \"weren't\",\n",
       " 'what',\n",
       " 'when',\n",
       " 'where',\n",
       " 'which',\n",
       " 'while',\n",
       " 'who',\n",
       " 'whom',\n",
       " 'why',\n",
       " 'will',\n",
       " 'with',\n",
       " 'won',\n",
       " \"won't\",\n",
       " 'wouldn',\n",
       " \"wouldn't\",\n",
       " 'y',\n",
       " 'you',\n",
       " \"you'd\",\n",
       " \"you'll\",\n",
       " \"you're\",\n",
       " \"you've\",\n",
       " 'your',\n",
       " 'yours',\n",
       " 'yourself',\n",
       " 'yourselves'}"
      ]
     },
     "execution_count": 58,
     "metadata": {},
     "output_type": "execute_result"
    }
   ],
   "source": [
    "stop_words"
   ]
  },
  {
   "cell_type": "code",
   "execution_count": 59,
   "id": "a458f22e",
   "metadata": {},
   "outputs": [
    {
     "data": {
      "text/plain": [
       "' How to remove stop words with NLTK library in python '"
      ]
     },
     "execution_count": 59,
     "metadata": {},
     "output_type": "execute_result"
    }
   ],
   "source": [
    "text = \" How to remove stop words with NLTK library in python?\"\n",
    "import re\n",
    "text = re.sub('[^a-zA-Z]', ' ',text)\n",
    "text\n"
   ]
  },
  {
   "cell_type": "code",
   "execution_count": 60,
   "id": "1756a74e",
   "metadata": {},
   "outputs": [
    {
     "data": {
      "text/plain": [
       "['how',\n",
       " 'to',\n",
       " 'remove',\n",
       " 'stop',\n",
       " 'words',\n",
       " 'with',\n",
       " 'nltk',\n",
       " 'library',\n",
       " 'in',\n",
       " 'python']"
      ]
     },
     "execution_count": 60,
     "metadata": {},
     "output_type": "execute_result"
    }
   ],
   "source": [
    "tokens = word_tokenize(text.lower())\n",
    "tokens"
   ]
  },
  {
   "cell_type": "code",
   "execution_count": 61,
   "id": "c4682ea4",
   "metadata": {},
   "outputs": [],
   "source": [
    "filtered_text=[]\n",
    "for w in tokens:\n",
    "     if w not in stop_words:\n",
    "            filtered_text.append(w)"
   ]
  },
  {
   "cell_type": "code",
   "execution_count": 62,
   "id": "0087b2dd",
   "metadata": {},
   "outputs": [
    {
     "data": {
      "text/plain": [
       "['remove', 'stop', 'words', 'nltk', 'library', 'python']"
      ]
     },
     "execution_count": 62,
     "metadata": {},
     "output_type": "execute_result"
    }
   ],
   "source": [
    "filtered_text"
   ]
  },
  {
   "cell_type": "code",
   "execution_count": 63,
   "id": "480d8fe6",
   "metadata": {},
   "outputs": [
    {
     "name": "stdout",
     "output_type": "stream",
     "text": [
      "wait\n",
      "wait\n",
      "wait\n"
     ]
    }
   ],
   "source": [
    "from nltk.stem import PorterStemmer\n",
    "e_words = [\"wait\",\"waiting\",\"waited\"]\n",
    "ps = PorterStemmer()\n",
    "for w in e_words:\n",
    "    rootWord = ps.stem(w)\n",
    "    print(rootWord)\n"
   ]
  },
  {
   "cell_type": "code",
   "execution_count": 64,
   "id": "75a20609",
   "metadata": {},
   "outputs": [
    {
     "name": "stdout",
     "output_type": "stream",
     "text": [
      "studi\n",
      "studi\n",
      "cri\n",
      "cri\n"
     ]
    }
   ],
   "source": [
    "from nltk.stem import PorterStemmer\n",
    "e_words = [\"studies\",\"studying\", \"cries\",\"cry\"]\n",
    "ps = PorterStemmer()\n",
    "for w in e_words:\n",
    "    rootWord = ps.stem(w)\n",
    "    print(rootWord)"
   ]
  },
  {
   "cell_type": "code",
   "execution_count": 15,
   "id": "a74983f2",
   "metadata": {},
   "outputs": [
    {
     "name": "stdout",
     "output_type": "stream",
     "text": [
      "[('The', 'DT')]\n",
      "[('pink', 'NN')]\n",
      "[('sweater', 'NN')]\n",
      "[('fits', 'NNS')]\n",
      "[('her', 'PRP$')]\n",
      "[('perfectly', 'RB')]\n"
     ]
    }
   ],
   "source": [
    "import nltk\n",
    "from nltk.tokenize import word_tokenize\n",
    "data = \"The pink sweater fits her perfectly\"\n",
    "words = word_tokenize(data)\n",
    "for word in words:\n",
    "    print(nltk.pos_tag([word]))"
   ]
  },
  {
   "cell_type": "markdown",
   "id": "ca9b4a07",
   "metadata": {},
   "source": [
    "### Part 2"
   ]
  },
  {
   "cell_type": "code",
   "execution_count": 16,
   "id": "2272e518",
   "metadata": {},
   "outputs": [],
   "source": [
    "import pandas as pd\n",
    "from sklearn.feature_extraction.text import TfidfVectorizer"
   ]
  },
  {
   "cell_type": "code",
   "execution_count": 17,
   "id": "f33a85cd",
   "metadata": {},
   "outputs": [],
   "source": [
    "documentA = 'Jupiter is the largest Planet'\n",
    "documentB = 'Mars is the fourth planet from the sun'"
   ]
  },
  {
   "cell_type": "code",
   "execution_count": 18,
   "id": "e29c3a55",
   "metadata": {},
   "outputs": [],
   "source": [
    "bagofWordsA = documentA.split(' ')\n",
    "bagofWordsB = documentB.split(' ')"
   ]
  },
  {
   "cell_type": "code",
   "execution_count": 19,
   "id": "3a894021",
   "metadata": {},
   "outputs": [],
   "source": [
    "uniqueWords = set(bagofWordsA).union(bagofWordsB)"
   ]
  },
  {
   "cell_type": "code",
   "execution_count": 20,
   "id": "de060a5a",
   "metadata": {},
   "outputs": [
    {
     "data": {
      "text/plain": [
       "{'Jupiter',\n",
       " 'Mars',\n",
       " 'Planet',\n",
       " 'fourth',\n",
       " 'from',\n",
       " 'is',\n",
       " 'largest',\n",
       " 'planet',\n",
       " 'sun',\n",
       " 'the'}"
      ]
     },
     "execution_count": 20,
     "metadata": {},
     "output_type": "execute_result"
    }
   ],
   "source": [
    "uniqueWords"
   ]
  },
  {
   "cell_type": "code",
   "execution_count": 21,
   "id": "de45272a",
   "metadata": {},
   "outputs": [],
   "source": [
    "numofWordsA = dict.fromkeys(uniqueWords,0)\n",
    "for word in bagofWordsA:\n",
    "     numofWordsA[word] += 1\n",
    "        "
   ]
  },
  {
   "cell_type": "code",
   "execution_count": 22,
   "id": "4d6e38a5",
   "metadata": {},
   "outputs": [
    {
     "data": {
      "text/plain": [
       "{'Planet': 1,\n",
       " 'fourth': 0,\n",
       " 'largest': 1,\n",
       " 'from': 0,\n",
       " 'Mars': 0,\n",
       " 'sun': 0,\n",
       " 'planet': 0,\n",
       " 'the': 1,\n",
       " 'Jupiter': 1,\n",
       " 'is': 1}"
      ]
     },
     "execution_count": 22,
     "metadata": {},
     "output_type": "execute_result"
    }
   ],
   "source": [
    "numofWordsA"
   ]
  },
  {
   "cell_type": "code",
   "execution_count": 23,
   "id": "8deaf046",
   "metadata": {},
   "outputs": [],
   "source": [
    "numofWordsB = dict.fromkeys(uniqueWords,0)\n",
    "for word in bagofWordsB:\n",
    "     numofWordsB[word] += 1"
   ]
  },
  {
   "cell_type": "code",
   "execution_count": 24,
   "id": "b19d89b4",
   "metadata": {},
   "outputs": [
    {
     "data": {
      "text/plain": [
       "{'Planet': 0,\n",
       " 'fourth': 1,\n",
       " 'largest': 0,\n",
       " 'from': 1,\n",
       " 'Mars': 1,\n",
       " 'sun': 1,\n",
       " 'planet': 1,\n",
       " 'the': 2,\n",
       " 'Jupiter': 0,\n",
       " 'is': 1}"
      ]
     },
     "execution_count": 24,
     "metadata": {},
     "output_type": "execute_result"
    }
   ],
   "source": [
    " numofWordsB"
   ]
  },
  {
   "cell_type": "code",
   "execution_count": 25,
   "id": "957e0f74",
   "metadata": {},
   "outputs": [],
   "source": [
    "def computeTF(wordDict,bagofWords):\n",
    "    TfDict = {}\n",
    "    bagofWordsCount = len(bagofWords)\n",
    "    for word, count in wordDict.items():\n",
    "        TfDict[word] = count/float(bagofWordsCount)\n",
    "    return TfDict"
   ]
  },
  {
   "cell_type": "code",
   "execution_count": 26,
   "id": "b103e31f",
   "metadata": {},
   "outputs": [],
   "source": [
    "tfA = computeTF(numofWordsA,bagofWordsA)\n",
    "tfB = computeTF(numofWordsA,bagofWordsB)"
   ]
  },
  {
   "cell_type": "code",
   "execution_count": 27,
   "id": "e85b764d",
   "metadata": {},
   "outputs": [
    {
     "data": {
      "text/plain": [
       "{'Planet': 0.2,\n",
       " 'fourth': 0.0,\n",
       " 'largest': 0.2,\n",
       " 'from': 0.0,\n",
       " 'Mars': 0.0,\n",
       " 'sun': 0.0,\n",
       " 'planet': 0.0,\n",
       " 'the': 0.2,\n",
       " 'Jupiter': 0.2,\n",
       " 'is': 0.2}"
      ]
     },
     "execution_count": 27,
     "metadata": {},
     "output_type": "execute_result"
    }
   ],
   "source": [
    "tfA"
   ]
  },
  {
   "cell_type": "code",
   "execution_count": 28,
   "id": "99daa8c1",
   "metadata": {},
   "outputs": [
    {
     "data": {
      "text/plain": [
       "{'Planet': 0.125,\n",
       " 'fourth': 0.0,\n",
       " 'largest': 0.125,\n",
       " 'from': 0.0,\n",
       " 'Mars': 0.0,\n",
       " 'sun': 0.0,\n",
       " 'planet': 0.0,\n",
       " 'the': 0.125,\n",
       " 'Jupiter': 0.125,\n",
       " 'is': 0.125}"
      ]
     },
     "execution_count": 28,
     "metadata": {},
     "output_type": "execute_result"
    }
   ],
   "source": [
    "tfB"
   ]
  },
  {
   "cell_type": "code",
   "execution_count": 29,
   "id": "a0cc2b7b",
   "metadata": {},
   "outputs": [],
   "source": [
    "def computeIDF(documents):\n",
    "    import math\n",
    "    N = len(documents)\n",
    "    idfDict=dict.fromkeys(documents[0].keys(),0)\n",
    "    for document in documents:\n",
    "        for word , val in document.items():\n",
    "            if val > 0:\n",
    "                idfDict[word]  += 1\n",
    "    for word,val in idfDict.items():\n",
    "            idfDict[word] = math.log(N/float(val))\n",
    "    return idfDict"
   ]
  },
  {
   "cell_type": "code",
   "execution_count": 30,
   "id": "ed946a49",
   "metadata": {},
   "outputs": [
    {
     "data": {
      "text/plain": [
       "{'Planet': 0.6931471805599453,\n",
       " 'fourth': 0.6931471805599453,\n",
       " 'largest': 0.6931471805599453,\n",
       " 'from': 0.6931471805599453,\n",
       " 'Mars': 0.6931471805599453,\n",
       " 'sun': 0.6931471805599453,\n",
       " 'planet': 0.6931471805599453,\n",
       " 'the': 0.0,\n",
       " 'Jupiter': 0.6931471805599453,\n",
       " 'is': 0.0}"
      ]
     },
     "execution_count": 30,
     "metadata": {},
     "output_type": "execute_result"
    }
   ],
   "source": [
    "idfs = computeIDF([numofWordsA,numofWordsB])\n",
    "idfs"
   ]
  },
  {
   "cell_type": "code",
   "execution_count": 31,
   "id": "c58efc3f",
   "metadata": {},
   "outputs": [],
   "source": [
    "def computeTFIDF(tfBagofWords,idfs):\n",
    "    tfidf ={}\n",
    "    for word,val in tfBagofWords.items():\n",
    "        tfidf[word] =val*idfs[word]\n",
    "    return tfidf\n",
    "        "
   ]
  },
  {
   "cell_type": "code",
   "execution_count": 32,
   "id": "b3e31de7",
   "metadata": {},
   "outputs": [],
   "source": [
    "tfDifA = computeTFIDF(tfA,idfs)"
   ]
  },
  {
   "cell_type": "code",
   "execution_count": 33,
   "id": "47d90552",
   "metadata": {},
   "outputs": [],
   "source": [
    "tfDifB = computeTFIDF(tfA,idfs)"
   ]
  },
  {
   "cell_type": "code",
   "execution_count": 34,
   "id": "bd9c4ca5",
   "metadata": {},
   "outputs": [
    {
     "data": {
      "text/plain": [
       "{'Planet': 0.13862943611198905,\n",
       " 'fourth': 0.0,\n",
       " 'largest': 0.13862943611198905,\n",
       " 'from': 0.0,\n",
       " 'Mars': 0.0,\n",
       " 'sun': 0.0,\n",
       " 'planet': 0.0,\n",
       " 'the': 0.0,\n",
       " 'Jupiter': 0.13862943611198905,\n",
       " 'is': 0.0}"
      ]
     },
     "execution_count": 34,
     "metadata": {},
     "output_type": "execute_result"
    }
   ],
   "source": [
    "tfDifA"
   ]
  },
  {
   "cell_type": "code",
   "execution_count": 35,
   "id": "a463ac07",
   "metadata": {},
   "outputs": [
    {
     "data": {
      "text/plain": [
       "{'Planet': 0.13862943611198905,\n",
       " 'fourth': 0.0,\n",
       " 'largest': 0.13862943611198905,\n",
       " 'from': 0.0,\n",
       " 'Mars': 0.0,\n",
       " 'sun': 0.0,\n",
       " 'planet': 0.0,\n",
       " 'the': 0.0,\n",
       " 'Jupiter': 0.13862943611198905,\n",
       " 'is': 0.0}"
      ]
     },
     "execution_count": 35,
     "metadata": {},
     "output_type": "execute_result"
    }
   ],
   "source": [
    "tfDifB"
   ]
  },
  {
   "cell_type": "code",
   "execution_count": 36,
   "id": "d6a58cb6",
   "metadata": {},
   "outputs": [],
   "source": [
    "df = pd.DataFrame([tfDifA,tfDifB])"
   ]
  },
  {
   "cell_type": "code",
   "execution_count": 37,
   "id": "4f04fc97",
   "metadata": {},
   "outputs": [
    {
     "data": {
      "text/html": [
       "<div>\n",
       "<style scoped>\n",
       "    .dataframe tbody tr th:only-of-type {\n",
       "        vertical-align: middle;\n",
       "    }\n",
       "\n",
       "    .dataframe tbody tr th {\n",
       "        vertical-align: top;\n",
       "    }\n",
       "\n",
       "    .dataframe thead th {\n",
       "        text-align: right;\n",
       "    }\n",
       "</style>\n",
       "<table border=\"1\" class=\"dataframe\">\n",
       "  <thead>\n",
       "    <tr style=\"text-align: right;\">\n",
       "      <th></th>\n",
       "      <th>Planet</th>\n",
       "      <th>fourth</th>\n",
       "      <th>largest</th>\n",
       "      <th>from</th>\n",
       "      <th>Mars</th>\n",
       "      <th>sun</th>\n",
       "      <th>planet</th>\n",
       "      <th>the</th>\n",
       "      <th>Jupiter</th>\n",
       "      <th>is</th>\n",
       "    </tr>\n",
       "  </thead>\n",
       "  <tbody>\n",
       "    <tr>\n",
       "      <th>0</th>\n",
       "      <td>0.138629</td>\n",
       "      <td>0.0</td>\n",
       "      <td>0.138629</td>\n",
       "      <td>0.0</td>\n",
       "      <td>0.0</td>\n",
       "      <td>0.0</td>\n",
       "      <td>0.0</td>\n",
       "      <td>0.0</td>\n",
       "      <td>0.138629</td>\n",
       "      <td>0.0</td>\n",
       "    </tr>\n",
       "    <tr>\n",
       "      <th>1</th>\n",
       "      <td>0.138629</td>\n",
       "      <td>0.0</td>\n",
       "      <td>0.138629</td>\n",
       "      <td>0.0</td>\n",
       "      <td>0.0</td>\n",
       "      <td>0.0</td>\n",
       "      <td>0.0</td>\n",
       "      <td>0.0</td>\n",
       "      <td>0.138629</td>\n",
       "      <td>0.0</td>\n",
       "    </tr>\n",
       "  </tbody>\n",
       "</table>\n",
       "</div>"
      ],
      "text/plain": [
       "     Planet  fourth   largest  from  Mars  sun  planet  the   Jupiter   is\n",
       "0  0.138629     0.0  0.138629   0.0   0.0  0.0     0.0  0.0  0.138629  0.0\n",
       "1  0.138629     0.0  0.138629   0.0   0.0  0.0     0.0  0.0  0.138629  0.0"
      ]
     },
     "execution_count": 37,
     "metadata": {},
     "output_type": "execute_result"
    }
   ],
   "source": [
    "df"
   ]
  },
  {
   "cell_type": "code",
   "execution_count": null,
   "id": "d8f5cc07",
   "metadata": {},
   "outputs": [],
   "source": []
  },
  {
   "cell_type": "code",
   "execution_count": null,
   "id": "02740c22",
   "metadata": {},
   "outputs": [],
   "source": []
  },
  {
   "cell_type": "code",
   "execution_count": null,
   "id": "0894e7d7",
   "metadata": {},
   "outputs": [],
   "source": []
  }
 ],
 "metadata": {
  "kernelspec": {
   "display_name": "Python 3 (ipykernel)",
   "language": "python",
   "name": "python3"
  },
  "language_info": {
   "codemirror_mode": {
    "name": "ipython",
    "version": 3
   },
   "file_extension": ".py",
   "mimetype": "text/x-python",
   "name": "python",
   "nbconvert_exporter": "python",
   "pygments_lexer": "ipython3",
   "version": "3.9.13"
  }
 },
 "nbformat": 4,
 "nbformat_minor": 5
}
